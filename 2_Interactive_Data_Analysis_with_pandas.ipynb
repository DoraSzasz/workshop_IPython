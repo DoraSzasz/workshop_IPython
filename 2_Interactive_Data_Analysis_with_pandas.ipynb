{
 "cells": [
  {
   "cell_type": "markdown",
   "metadata": {},
   "source": [
    "> Created by Teodora Szasz, tszasz@uchicago.edu"
   ]
  },
  {
   "cell_type": "markdown",
   "metadata": {},
   "source": [
    "# <h1 align=\"center\">2. Interactive Data Analysis with pandas</h1>"
   ]
  },
  {
   "cell_type": "markdown",
   "metadata": {},
   "source": [
    "### A. Downloading the data (Red Light Camera Violations since July 1, 2014)\n",
    "- The dataset we are going to analyze contains the Red Light Camera Violations created by the City of Chicago Red Light Program for each camera.\n",
    "- The data reflects violations that occurred from July 1, 2014 until present, minus the most recent 14 days.\n",
    "- The data can be found at: https://data.cityofchicago.org/Transportation/Red-Light-Camera-Violations/spqx-js37\n",
    "- Other public datasets can be found on City of Chicago Data Portal: https://data.cityofchicago.org/"
   ]
  },
  {
   "cell_type": "markdown",
   "metadata": {},
   "source": [
    "- Let's download the data (36.92 MB, .CSV format):\n",
    "- The name of the file: Red_Light_Camera_Violations.csv"
   ]
  },
  {
   "cell_type": "code",
   "execution_count": 196,
   "metadata": {
    "collapsed": false,
    "scrolled": true
   },
   "outputs": [
    {
     "name": "stdout",
     "output_type": "stream",
     "text": [
      "--2017-01-15 19:05:35--  https://data.cityofchicago.org/api/views/spqx-js37/rows.csv?accessType=DOWNLOAD\n",
      "Resolving data.cityofchicago.org... 52.206.140.199\n",
      "Connecting to data.cityofchicago.org|52.206.140.199|:443... connected.\n",
      "HTTP request sent, awaiting response... 200 OK\n",
      "Length: unspecified [text/csv]\n",
      "Saving to: ‘Red_Light_Camera_Violations.csv’\n",
      "\n",
      "Red_Light_Camera_Vi     [                <=> ]  36.92M  1.22MB/s    in 33s     \n",
      "\n",
      "Last-modified header invalid -- time-stamp ignored.\n",
      "2017-01-15 19:06:09 (1.12 MB/s) - ‘Red_Light_Camera_Violations.csv’ saved [38714274]\n",
      "\n"
     ]
    }
   ],
   "source": [
    "!wget -O Red_Light_Camera_Violations.csv https://data.cityofchicago.org/api/views/spqx-js37/rows.csv?accessType=DOWNLOAD"
   ]
  },
  {
   "cell_type": "markdown",
   "metadata": {},
   "source": [
    "- It contains 246935 entries - 36.92 MB\n",
    "- compared to \"Crimes from 2001 to present\" dataset: - more than 6 million entries - 1.23 GB"
   ]
  },
  {
   "cell_type": "code",
   "execution_count": 166,
   "metadata": {
    "collapsed": false
   },
   "outputs": [
    {
     "name": "stdout",
     "output_type": "stream",
     "text": [
      "1_Introducing_IPython_Notebook.ipynb\r\n",
      "2_Interactive_Data_Analysis_with_pandas.ipynb\r\n",
      "Red_Light_Camera_Violations.csv\r\n",
      "\u001b[34mcookbook-code\u001b[m\u001b[m\r\n",
      "test.txt\r\n"
     ]
    }
   ],
   "source": [
    "!ls"
   ]
  },
  {
   "cell_type": "markdown",
   "metadata": {
    "collapsed": true
   },
   "source": [
    "- Let's import a few packages we will need here:\n",
    "- We also instruct matplotlib to render the figures as PNG images in the notebook."
   ]
  },
  {
   "cell_type": "code",
   "execution_count": 167,
   "metadata": {
    "collapsed": true
   },
   "outputs": [],
   "source": [
    "import numpy as np\n",
    "import pandas as pd\n",
    "import matplotlib.pyplot as plt\n",
    "%matplotlib inline"
   ]
  },
  {
   "cell_type": "markdown",
   "metadata": {},
   "source": [
    "### B. Loading the dataset"
   ]
  },
  {
   "cell_type": "markdown",
   "metadata": {},
   "source": [
    "- Tip: do not hesitate to use tab completion each time you can"
   ]
  },
  {
   "cell_type": "code",
   "execution_count": 176,
   "metadata": {
    "collapsed": true
   },
   "outputs": [],
   "source": [
    "data_filename = 'Red_Light_Camera_Violations.csv'\n",
    "data = pd.read_csv(data_filename, parse_dates=True)"
   ]
  },
  {
   "cell_type": "markdown",
   "metadata": {},
   "source": [
    "- `data` variable is a DataFrame object. A DataFrame is a table containing rows (observations) and columns (variables)."
   ]
  },
  {
   "cell_type": "markdown",
   "metadata": {},
   "source": [
    "- `head()` method displays the first few lines (here, three) of the table:"
   ]
  },
  {
   "cell_type": "code",
   "execution_count": 177,
   "metadata": {
    "collapsed": false
   },
   "outputs": [
    {
     "data": {
      "text/html": [
       "<div>\n",
       "<table border=\"1\" class=\"dataframe\">\n",
       "  <thead>\n",
       "    <tr style=\"text-align: right;\">\n",
       "      <th></th>\n",
       "      <th>INTERSECTION</th>\n",
       "      <th>CAMERA ID</th>\n",
       "      <th>ADDRESS</th>\n",
       "      <th>VIOLATION DATE</th>\n",
       "      <th>VIOLATIONS</th>\n",
       "      <th>X COORDINATE</th>\n",
       "      <th>Y COORDINATE</th>\n",
       "      <th>LATITUDE</th>\n",
       "      <th>LONGITUDE</th>\n",
       "      <th>LOCATION</th>\n",
       "    </tr>\n",
       "  </thead>\n",
       "  <tbody>\n",
       "    <tr>\n",
       "      <th>0</th>\n",
       "      <td>31ST ST AND MARTIN LUTHER KING DRIVE</td>\n",
       "      <td>2121.0</td>\n",
       "      <td>3100 S DR MARTIN L KING</td>\n",
       "      <td>08/02/2014</td>\n",
       "      <td>16</td>\n",
       "      <td>NaN</td>\n",
       "      <td>NaN</td>\n",
       "      <td>NaN</td>\n",
       "      <td>NaN</td>\n",
       "      <td>NaN</td>\n",
       "    </tr>\n",
       "    <tr>\n",
       "      <th>1</th>\n",
       "      <td>MADISON AND CENTRAL</td>\n",
       "      <td>1751.0</td>\n",
       "      <td>0 S CENTRAL AVENUE</td>\n",
       "      <td>07/15/2014</td>\n",
       "      <td>5</td>\n",
       "      <td>NaN</td>\n",
       "      <td>NaN</td>\n",
       "      <td>NaN</td>\n",
       "      <td>NaN</td>\n",
       "      <td>NaN</td>\n",
       "    </tr>\n",
       "    <tr>\n",
       "      <th>2</th>\n",
       "      <td>HOMAN/KIMBALL AND NORTH</td>\n",
       "      <td>1771.0</td>\n",
       "      <td>1600 N HOMAN AVENUE</td>\n",
       "      <td>07/27/2014</td>\n",
       "      <td>1</td>\n",
       "      <td>NaN</td>\n",
       "      <td>NaN</td>\n",
       "      <td>NaN</td>\n",
       "      <td>NaN</td>\n",
       "      <td>NaN</td>\n",
       "    </tr>\n",
       "  </tbody>\n",
       "</table>\n",
       "</div>"
      ],
      "text/plain": [
       "                           INTERSECTION  CAMERA ID                  ADDRESS  \\\n",
       "0  31ST ST AND MARTIN LUTHER KING DRIVE     2121.0  3100 S DR MARTIN L KING   \n",
       "1                   MADISON AND CENTRAL     1751.0       0 S CENTRAL AVENUE   \n",
       "2               HOMAN/KIMBALL AND NORTH     1771.0      1600 N HOMAN AVENUE   \n",
       "\n",
       "  VIOLATION DATE  VIOLATIONS  X COORDINATE  Y COORDINATE  LATITUDE  LONGITUDE  \\\n",
       "0     08/02/2014          16           NaN           NaN       NaN        NaN   \n",
       "1     07/15/2014           5           NaN           NaN       NaN        NaN   \n",
       "2     07/27/2014           1           NaN           NaN       NaN        NaN   \n",
       "\n",
       "  LOCATION  \n",
       "0      NaN  \n",
       "1      NaN  \n",
       "2      NaN  "
      ]
     },
     "execution_count": 177,
     "metadata": {},
     "output_type": "execute_result"
    }
   ],
   "source": [
    "data.head(3)"
   ]
  },
  {
   "cell_type": "markdown",
   "metadata": {},
   "source": [
    "- Exercise: Try using `tail()` method."
   ]
  },
  {
   "cell_type": "markdown",
   "metadata": {},
   "source": [
    "### C. Preparing the data"
   ]
  },
  {
   "cell_type": "code",
   "execution_count": 178,
   "metadata": {
    "collapsed": false
   },
   "outputs": [],
   "source": [
    "data_v = data[['VIOLATION DATE','VIOLATIONS']]"
   ]
  },
  {
   "cell_type": "code",
   "execution_count": 187,
   "metadata": {
    "collapsed": false,
    "scrolled": true
   },
   "outputs": [],
   "source": [
    "data_vi = data_v.set_index(pd.DatetimeIndex(data_v['VIOLATION DATE']))"
   ]
  },
  {
   "cell_type": "code",
   "execution_count": 190,
   "metadata": {
    "collapsed": false
   },
   "outputs": [
    {
     "data": {
      "text/plain": [
       "array([5, 1, 6, ..., 4, 3, 0], dtype=int32)"
      ]
     },
     "execution_count": 190,
     "metadata": {},
     "output_type": "execute_result"
    }
   ],
   "source": [
    "data_vi.index.weekday"
   ]
  },
  {
   "cell_type": "markdown",
   "metadata": {},
   "source": [
    "### D. Analyze data"
   ]
  },
  {
   "cell_type": "code",
   "execution_count": 180,
   "metadata": {
    "collapsed": false
   },
   "outputs": [
    {
     "data": {
      "text/html": [
       "<div>\n",
       "<table border=\"1\" class=\"dataframe\">\n",
       "  <thead>\n",
       "    <tr style=\"text-align: right;\">\n",
       "      <th></th>\n",
       "      <th>VIOLATIONS</th>\n",
       "    </tr>\n",
       "  </thead>\n",
       "  <tbody>\n",
       "    <tr>\n",
       "      <th>count</th>\n",
       "      <td>246934.000000</td>\n",
       "    </tr>\n",
       "    <tr>\n",
       "      <th>mean</th>\n",
       "      <td>5.616999</td>\n",
       "    </tr>\n",
       "    <tr>\n",
       "      <th>std</th>\n",
       "      <td>7.073604</td>\n",
       "    </tr>\n",
       "    <tr>\n",
       "      <th>min</th>\n",
       "      <td>1.000000</td>\n",
       "    </tr>\n",
       "    <tr>\n",
       "      <th>25%</th>\n",
       "      <td>2.000000</td>\n",
       "    </tr>\n",
       "    <tr>\n",
       "      <th>50%</th>\n",
       "      <td>4.000000</td>\n",
       "    </tr>\n",
       "    <tr>\n",
       "      <th>75%</th>\n",
       "      <td>7.000000</td>\n",
       "    </tr>\n",
       "    <tr>\n",
       "      <th>max</th>\n",
       "      <td>186.000000</td>\n",
       "    </tr>\n",
       "  </tbody>\n",
       "</table>\n",
       "</div>"
      ],
      "text/plain": [
       "          VIOLATIONS\n",
       "count  246934.000000\n",
       "mean        5.616999\n",
       "std         7.073604\n",
       "min         1.000000\n",
       "25%         2.000000\n",
       "50%         4.000000\n",
       "75%         7.000000\n",
       "max       186.000000"
      ]
     },
     "execution_count": 180,
     "metadata": {},
     "output_type": "execute_result"
    }
   ],
   "source": [
    "data_vi.describe()"
   ]
  },
  {
   "cell_type": "code",
   "execution_count": 181,
   "metadata": {
    "collapsed": false
   },
   "outputs": [
    {
     "data": {
      "image/png": "[encoded data removed]",
      "text/plain": [
       "<matplotlib.figure.Figure at 0x148fa58d0>"
      ]
     },
     "metadata": {},
     "output_type": "display_data"
    }
   ],
   "source": [
    "# The styling '-' and '--' is just to make the figure\n",
    "# readable in the black & white printed version of this book.\n",
    "data_vi[['VIOLATIONS']].plot(figsize=(8,4),\n",
    "                               style=['-']);"
   ]
  },
  {
   "cell_type": "markdown",
   "metadata": {},
   "source": [
    "- Next, we will look at the occured violences as function of the weekday:"
   ]
  },
  {
   "cell_type": "code",
   "execution_count": 191,
   "metadata": {
    "collapsed": false
   },
   "outputs": [
    {
     "data": {
      "text/plain": [
       "DatetimeIndex(['2014-08-02', '2014-07-15', '2014-07-27', '2014-08-07',\n",
       "               '2014-07-23', '2014-07-11', '2014-07-04', '2014-07-26',\n",
       "               '2014-08-01', '2014-07-13',\n",
       "               ...\n",
       "               '2015-01-29', '2014-08-22', '2016-06-20', '2015-11-24',\n",
       "               '2016-06-03', '2016-07-18', '2016-01-11', '2014-08-29',\n",
       "               '2015-06-11', '2015-07-06'],\n",
       "              dtype='datetime64[ns]', length=246934, freq=None)"
      ]
     },
     "execution_count": 191,
     "metadata": {},
     "output_type": "execute_result"
    }
   ],
   "source": [
    "data_vi.index"
   ]
  },
  {
   "cell_type": "markdown",
   "metadata": {},
   "source": [
    "- Transform the numbers in names (Monday, Tuesday, etc.):"
   ]
  },
  {
   "cell_type": "code",
   "execution_count": 192,
   "metadata": {
    "collapsed": false
   },
   "outputs": [],
   "source": [
    "days = np.array(['Monday', 'Tuesday', 'Wednesday', \n",
    "                 'Thursday', 'Friday', 'Saturday', \n",
    "                 'Sunday'])\n",
    "data_vi['Weekday'] = days[data_vi.index.weekday]"
   ]
  },
  {
   "cell_type": "code",
   "execution_count": 193,
   "metadata": {
    "collapsed": false
   },
   "outputs": [
    {
     "data": {
      "text/plain": [
       "2014-08-02     Saturday\n",
       "2014-07-15      Tuesday\n",
       "2014-07-27       Sunday\n",
       "2014-08-07     Thursday\n",
       "2014-07-23    Wednesday\n",
       "2014-07-11       Friday\n",
       "2014-07-04       Friday\n",
       "2014-07-26     Saturday\n",
       "2014-08-01       Friday\n",
       "2014-07-13       Sunday\n",
       "2014-07-16    Wednesday\n",
       "2014-08-07     Thursday\n",
       "2014-07-17     Thursday\n",
       "2014-08-03       Sunday\n",
       "2014-07-11       Friday\n",
       "2014-07-26     Saturday\n",
       "2014-08-06    Wednesday\n",
       "2014-07-10     Thursday\n",
       "2014-07-06       Sunday\n",
       "2014-08-03       Sunday\n",
       "2014-07-12     Saturday\n",
       "2014-07-08      Tuesday\n",
       "2014-07-30    Wednesday\n",
       "2014-07-23    Wednesday\n",
       "2014-08-07     Thursday\n",
       "2014-07-17     Thursday\n",
       "2014-07-19     Saturday\n",
       "2014-08-01       Friday\n",
       "2014-07-06       Sunday\n",
       "2014-08-04       Monday\n",
       "                ...    \n",
       "2015-01-29     Thursday\n",
       "2014-10-16     Thursday\n",
       "2015-01-05       Monday\n",
       "2015-07-02     Thursday\n",
       "2016-04-15       Friday\n",
       "2014-09-10    Wednesday\n",
       "2016-03-05     Saturday\n",
       "2015-11-20       Friday\n",
       "2016-08-31    Wednesday\n",
       "2015-04-27       Monday\n",
       "2015-11-02       Monday\n",
       "2016-12-25       Sunday\n",
       "2015-10-09       Friday\n",
       "2016-11-03     Thursday\n",
       "2016-10-03       Monday\n",
       "2016-08-12       Friday\n",
       "2015-11-30       Monday\n",
       "2016-02-17    Wednesday\n",
       "2016-12-25       Sunday\n",
       "2016-02-20     Saturday\n",
       "2015-01-29     Thursday\n",
       "2014-08-22       Friday\n",
       "2016-06-20       Monday\n",
       "2015-11-24      Tuesday\n",
       "2016-06-03       Friday\n",
       "2016-07-18       Monday\n",
       "2016-01-11       Monday\n",
       "2014-08-29       Friday\n",
       "2015-06-11     Thursday\n",
       "2015-07-06       Monday\n",
       "Name: Weekday, dtype: object"
      ]
     },
     "execution_count": 193,
     "metadata": {},
     "output_type": "execute_result"
    }
   ],
   "source": [
    "data_vi['Weekday']"
   ]
  },
  {
   "cell_type": "markdown",
   "metadata": {},
   "source": [
    "- Let's analyze how the violations are distributed ver the weekdays.\n",
    "- For this, we need to group the table by the weekday. \n",
    "- The `groupby` method lets us do just that. Once grouped, we can sum all rows in every group."
   ]
  },
  {
   "cell_type": "code",
   "execution_count": 194,
   "metadata": {
    "collapsed": false
   },
   "outputs": [],
   "source": [
    "data_vi_week = data_vi.groupby('Weekday').sum()"
   ]
  },
  {
   "cell_type": "code",
   "execution_count": 195,
   "metadata": {
    "collapsed": false
   },
   "outputs": [
    {
     "data": {
      "text/html": [
       "<div>\n",
       "<table border=\"1\" class=\"dataframe\">\n",
       "  <thead>\n",
       "    <tr style=\"text-align: right;\">\n",
       "      <th></th>\n",
       "      <th>VIOLATIONS</th>\n",
       "    </tr>\n",
       "    <tr>\n",
       "      <th>Weekday</th>\n",
       "      <th></th>\n",
       "    </tr>\n",
       "  </thead>\n",
       "  <tbody>\n",
       "    <tr>\n",
       "      <th>Friday</th>\n",
       "      <td>213301</td>\n",
       "    </tr>\n",
       "    <tr>\n",
       "      <th>Monday</th>\n",
       "      <td>179787</td>\n",
       "    </tr>\n",
       "    <tr>\n",
       "      <th>Saturday</th>\n",
       "      <td>226834</td>\n",
       "    </tr>\n",
       "    <tr>\n",
       "      <th>Sunday</th>\n",
       "      <td>203640</td>\n",
       "    </tr>\n",
       "    <tr>\n",
       "      <th>Thursday</th>\n",
       "      <td>194362</td>\n",
       "    </tr>\n",
       "    <tr>\n",
       "      <th>Tuesday</th>\n",
       "      <td>183077</td>\n",
       "    </tr>\n",
       "    <tr>\n",
       "      <th>Wednesday</th>\n",
       "      <td>186027</td>\n",
       "    </tr>\n",
       "  </tbody>\n",
       "</table>\n",
       "</div>"
      ],
      "text/plain": [
       "           VIOLATIONS\n",
       "Weekday              \n",
       "Friday         213301\n",
       "Monday         179787\n",
       "Saturday       226834\n",
       "Sunday         203640\n",
       "Thursday       194362\n",
       "Tuesday        183077\n",
       "Wednesday      186027"
      ]
     },
     "execution_count": 195,
     "metadata": {},
     "output_type": "execute_result"
    }
   ],
   "source": [
    "data_vi_week"
   ]
  },
  {
   "cell_type": "markdown",
   "metadata": {},
   "source": [
    "- Let's display this information in a figure. \n",
    "- We first need to reorder the table by the weekday using ix (indexing operation). \n",
    "- Then, we plot the table, specifying the line width and the figure size."
   ]
  },
  {
   "cell_type": "code",
   "execution_count": 203,
   "metadata": {
    "collapsed": false
   },
   "outputs": [
    {
     "data": {
      "image/png": "[encoded data removed]",
      "text/plain": [
       "<matplotlib.figure.Figure at 0x156aa23c8>"
      ]
     },
     "metadata": {},
     "output_type": "display_data"
    }
   ],
   "source": [
    "data_vi_week.ix[days].plot(lw=3, figsize=(6,4));\n",
    "plt.ylim(179000);  # Set the bottom axis to 179000."
   ]
  },
  {
   "cell_type": "markdown",
   "metadata": {},
   "source": [
    "- Display the locations of the violations:"
   ]
  },
  {
   "cell_type": "code",
   "execution_count": 11,
   "metadata": {
    "collapsed": false
   },
   "outputs": [
    {
     "data": {
      "text/plain": [
       "Index(['INTERSECTION', 'CAMERA ID', 'ADDRESS', 'VIOLATION DATE', 'VIOLATIONS',\n",
       "       'X COORDINATE', 'Y COORDINATE', 'LATITUDE', 'LONGITUDE', 'LOCATION'],\n",
       "      dtype='object')"
      ]
     },
     "execution_count": 11,
     "metadata": {},
     "output_type": "execute_result"
    }
   ],
   "source": [
    "data.columns"
   ]
  },
  {
   "cell_type": "code",
   "execution_count": 12,
   "metadata": {
    "collapsed": false
   },
   "outputs": [],
   "source": [
    "v_lng = data.LONGITUDE\n",
    "v_lat = data.LATITUDE"
   ]
  },
  {
   "cell_type": "markdown",
   "metadata": {
    "collapsed": false
   },
   "source": [
    "- Before making a plot, we have to get the coordinates of points in pixels instead of geographical coordinates.\n",
    "- We will create a function that performs Mercator projection:"
   ]
  },
  {
   "cell_type": "code",
   "execution_count": 14,
   "metadata": {
    "collapsed": true
   },
   "outputs": [],
   "source": [
    "def lat_lng_to_pixels(lat, lng):\n",
    "    lat_rad = lat * np.pi / 180.0\n",
    "    lat_rad = np.log(np.tan((lat_rad + np.pi / 2.0) / 2.0))\n",
    "    x = 100 * (lng + 180.0) / 360.0\n",
    "    y = 100 * (lat_rad - np.pi) / (2.0 * np.pi)\n",
    "    return (x, y)"
   ]
  },
  {
   "cell_type": "code",
   "execution_count": 15,
   "metadata": {
    "collapsed": true
   },
   "outputs": [],
   "source": [
    "vx, vy = lat_lng_to_pixels(v_lat, v_lng)"
   ]
  },
  {
   "cell_type": "markdown",
   "metadata": {},
   "source": [
    "- Plot the locations:"
   ]
  },
  {
   "cell_type": "code",
   "execution_count": 17,
   "metadata": {
    "collapsed": false
   },
   "outputs": [
    {
     "data": {
      "text/plain": [
       "<matplotlib.collections.PathCollection at 0x10454ccf8>"
      ]
     },
     "execution_count": 17,
     "metadata": {},
     "output_type": "execute_result"
    },
    {
     "data": {
      "image/png": "[encoded data removed]",
      "text/plain": [
       "<matplotlib.figure.Figure at 0x112ec7dd8>"
      ]
     },
     "metadata": {},
     "output_type": "display_data"
    }
   ],
   "source": [
    "plt.scatter(vx, vy)"
   ]
  },
  {
   "cell_type": "markdown",
   "metadata": {},
   "source": [
    "- Let's make it more appealing. `matplotlib` is highly customizable. Here is an example:"
   ]
  },
  {
   "cell_type": "code",
   "execution_count": 19,
   "metadata": {
    "collapsed": false
   },
   "outputs": [
    {
     "data": {
      "text/plain": [
       "(25.600000000000001, 25.68, -37.25, -37.100000000000001)"
      ]
     },
     "execution_count": 19,
     "metadata": {},
     "output_type": "execute_result"
    },
    {
     "data": {
      "image/png": "[encoded data removed]",
      "text/plain": [
       "<matplotlib.figure.Figure at 0x113fb9550>"
      ]
     },
     "metadata": {},
     "output_type": "display_data"
    }
   ],
   "source": [
    "plt.figure(figsize=(8,6))\n",
    "plt.scatter(vx, vy, s=.1, alpha=.03)\n",
    "plt.axis('equal')\n",
    "plt.xlim(25.6, 25.68)\n",
    "plt.ylim(-37.25, -37.10)\n",
    "plt.axis('off')"
   ]
  },
  {
   "cell_type": "markdown",
   "metadata": {},
   "source": [
    "- `matplotlib` sometimes require a significant amount of manual tuning to have clean, publication-ready figures.\n",
    "- Other alternative is `seaborn` (needs to be installed)."
   ]
  },
  {
   "cell_type": "markdown",
   "metadata": {},
   "source": [
    "### E. Some useful references:"
   ]
  },
  {
   "cell_type": "code",
   "execution_count": null,
   "metadata": {
    "collapsed": true
   },
   "outputs": [],
   "source": []
  }
 ],
 "metadata": {
  "anaconda-cloud": {},
  "kernelspec": {
   "display_name": "Python [default]",
   "language": "python",
   "name": "python3"
  },
  "language_info": {
   "codemirror_mode": {
    "name": "ipython",
    "version": 3
   },
   "file_extension": ".py",
   "mimetype": "text/x-python",
   "name": "python",
   "nbconvert_exporter": "python",
   "pygments_lexer": "ipython3",
   "version": "3.5.2"
  }
 },
 "nbformat": 4,
 "nbformat_minor": 1
}
